{
 "cells": [
  {
   "cell_type": "markdown",
   "id": "d31dea65",
   "metadata": {},
   "source": [
    "# CALIDAD DE DATOS"
   ]
  },
  {
   "cell_type": "markdown",
   "id": "swiss-fault",
   "metadata": {},
   "source": [
    "## IMPORTAR PAQUETES"
   ]
  },
  {
   "cell_type": "code",
   "execution_count": 57,
   "id": "adjacent-toddler",
   "metadata": {},
   "outputs": [],
   "source": [
    "import numpy as np\n",
    "import pandas as pd\n",
    "from janitor import clean_names\n",
    "\n",
    "#Automcompletar rápido\n",
    "%config IPCompleter.greedy=True\n",
    "\n",
    "import warnings\n",
    "warnings.filterwarnings('ignore')"
   ]
  },
  {
   "cell_type": "markdown",
   "id": "graduate-compensation",
   "metadata": {},
   "source": [
    "## IMPORTAR LOS DATOS"
   ]
  },
  {
   "cell_type": "markdown",
   "id": "38bb812b",
   "metadata": {},
   "source": [
    "Sustituir la ruta del proyecto."
   ]
  },
  {
   "cell_type": "code",
   "execution_count": 28,
   "id": "28c63848",
   "metadata": {},
   "outputs": [],
   "source": [
    "ruta_proyecto = 'C:/Users/pelop/OneDrive/Desktop/Curso Data Science Pedro/2 CURSO DATA SCIENCE/03_MACHINE_LEARNING/07_CASOS/02_RETAIL/'"
   ]
  },
  {
   "cell_type": "markdown",
   "id": "ba473b09",
   "metadata": {},
   "source": [
    "Sustituir el nombre_fichero_datos."
   ]
  },
  {
   "cell_type": "code",
   "execution_count": 29,
   "id": "5d9dc5ea",
   "metadata": {},
   "outputs": [],
   "source": [
    "nombre_fichero_datos = 'trabajo.csv'"
   ]
  },
  {
   "cell_type": "markdown",
   "id": "ae75bf0b",
   "metadata": {},
   "source": [
    "Cargar los datos."
   ]
  },
  {
   "cell_type": "code",
   "execution_count": 31,
   "id": "24ff453b",
   "metadata": {},
   "outputs": [
    {
     "data": {
      "text/html": [
       "<div>\n",
       "<style scoped>\n",
       "    .dataframe tbody tr th:only-of-type {\n",
       "        vertical-align: middle;\n",
       "    }\n",
       "\n",
       "    .dataframe tbody tr th {\n",
       "        vertical-align: top;\n",
       "    }\n",
       "\n",
       "    .dataframe thead th {\n",
       "        text-align: right;\n",
       "    }\n",
       "</style>\n",
       "<table border=\"1\" class=\"dataframe\">\n",
       "  <thead>\n",
       "    <tr style=\"text-align: right;\">\n",
       "      <th></th>\n",
       "      <th>state_id</th>\n",
       "      <th>store_id</th>\n",
       "      <th>dept_id</th>\n",
       "      <th>cat_id</th>\n",
       "      <th>item_id</th>\n",
       "      <th>wm_yr_wk</th>\n",
       "      <th>d</th>\n",
       "      <th>ventas</th>\n",
       "      <th>sell_price</th>\n",
       "      <th>year</th>\n",
       "      <th>month</th>\n",
       "      <th>wday</th>\n",
       "      <th>weekday</th>\n",
       "      <th>event_name_1</th>\n",
       "      <th>event_type_1</th>\n",
       "      <th>event_name_2</th>\n",
       "      <th>event_type_2</th>\n",
       "    </tr>\n",
       "    <tr>\n",
       "      <th>date</th>\n",
       "      <th></th>\n",
       "      <th></th>\n",
       "      <th></th>\n",
       "      <th></th>\n",
       "      <th></th>\n",
       "      <th></th>\n",
       "      <th></th>\n",
       "      <th></th>\n",
       "      <th></th>\n",
       "      <th></th>\n",
       "      <th></th>\n",
       "      <th></th>\n",
       "      <th></th>\n",
       "      <th></th>\n",
       "      <th></th>\n",
       "      <th></th>\n",
       "      <th></th>\n",
       "    </tr>\n",
       "  </thead>\n",
       "  <tbody>\n",
       "    <tr>\n",
       "      <th>2013-01-01</th>\n",
       "      <td>CA</td>\n",
       "      <td>CA_3</td>\n",
       "      <td>FOODS_3</td>\n",
       "      <td>FOODS</td>\n",
       "      <td>FOODS_3_090</td>\n",
       "      <td>11249</td>\n",
       "      <td>d_704</td>\n",
       "      <td>0</td>\n",
       "      <td>1.25</td>\n",
       "      <td>2013</td>\n",
       "      <td>1</td>\n",
       "      <td>4</td>\n",
       "      <td>Tuesday</td>\n",
       "      <td>NewYear</td>\n",
       "      <td>National</td>\n",
       "      <td>NaN</td>\n",
       "      <td>NaN</td>\n",
       "    </tr>\n",
       "    <tr>\n",
       "      <th>2013-01-01</th>\n",
       "      <td>CA</td>\n",
       "      <td>CA_3</td>\n",
       "      <td>FOODS_3</td>\n",
       "      <td>FOODS</td>\n",
       "      <td>FOODS_3_120</td>\n",
       "      <td>11249</td>\n",
       "      <td>d_704</td>\n",
       "      <td>0</td>\n",
       "      <td>4.98</td>\n",
       "      <td>2013</td>\n",
       "      <td>1</td>\n",
       "      <td>4</td>\n",
       "      <td>Tuesday</td>\n",
       "      <td>NewYear</td>\n",
       "      <td>National</td>\n",
       "      <td>NaN</td>\n",
       "      <td>NaN</td>\n",
       "    </tr>\n",
       "    <tr>\n",
       "      <th>2013-01-01</th>\n",
       "      <td>CA</td>\n",
       "      <td>CA_3</td>\n",
       "      <td>FOODS_3</td>\n",
       "      <td>FOODS</td>\n",
       "      <td>FOODS_3_202</td>\n",
       "      <td>11249</td>\n",
       "      <td>d_704</td>\n",
       "      <td>20</td>\n",
       "      <td>4.28</td>\n",
       "      <td>2013</td>\n",
       "      <td>1</td>\n",
       "      <td>4</td>\n",
       "      <td>Tuesday</td>\n",
       "      <td>NewYear</td>\n",
       "      <td>National</td>\n",
       "      <td>NaN</td>\n",
       "      <td>NaN</td>\n",
       "    </tr>\n",
       "    <tr>\n",
       "      <th>2013-01-01</th>\n",
       "      <td>CA</td>\n",
       "      <td>CA_3</td>\n",
       "      <td>FOODS_3</td>\n",
       "      <td>FOODS</td>\n",
       "      <td>FOODS_3_252</td>\n",
       "      <td>11249</td>\n",
       "      <td>d_704</td>\n",
       "      <td>34</td>\n",
       "      <td>1.48</td>\n",
       "      <td>2013</td>\n",
       "      <td>1</td>\n",
       "      <td>4</td>\n",
       "      <td>Tuesday</td>\n",
       "      <td>NewYear</td>\n",
       "      <td>National</td>\n",
       "      <td>NaN</td>\n",
       "      <td>NaN</td>\n",
       "    </tr>\n",
       "    <tr>\n",
       "      <th>2013-01-01</th>\n",
       "      <td>CA</td>\n",
       "      <td>CA_3</td>\n",
       "      <td>FOODS_3</td>\n",
       "      <td>FOODS</td>\n",
       "      <td>FOODS_3_288</td>\n",
       "      <td>11249</td>\n",
       "      <td>d_704</td>\n",
       "      <td>0</td>\n",
       "      <td>NaN</td>\n",
       "      <td>2013</td>\n",
       "      <td>1</td>\n",
       "      <td>4</td>\n",
       "      <td>Tuesday</td>\n",
       "      <td>NewYear</td>\n",
       "      <td>National</td>\n",
       "      <td>NaN</td>\n",
       "      <td>NaN</td>\n",
       "    </tr>\n",
       "    <tr>\n",
       "      <th>...</th>\n",
       "      <td>...</td>\n",
       "      <td>...</td>\n",
       "      <td>...</td>\n",
       "      <td>...</td>\n",
       "      <td>...</td>\n",
       "      <td>...</td>\n",
       "      <td>...</td>\n",
       "      <td>...</td>\n",
       "      <td>...</td>\n",
       "      <td>...</td>\n",
       "      <td>...</td>\n",
       "      <td>...</td>\n",
       "      <td>...</td>\n",
       "      <td>...</td>\n",
       "      <td>...</td>\n",
       "      <td>...</td>\n",
       "      <td>...</td>\n",
       "    </tr>\n",
       "    <tr>\n",
       "      <th>2015-11-30</th>\n",
       "      <td>CA</td>\n",
       "      <td>CA_4</td>\n",
       "      <td>FOODS_3</td>\n",
       "      <td>FOODS</td>\n",
       "      <td>FOODS_3_329</td>\n",
       "      <td>11544</td>\n",
       "      <td>d_1767</td>\n",
       "      <td>5</td>\n",
       "      <td>2.98</td>\n",
       "      <td>2015</td>\n",
       "      <td>11</td>\n",
       "      <td>3</td>\n",
       "      <td>Monday</td>\n",
       "      <td>NaN</td>\n",
       "      <td>NaN</td>\n",
       "      <td>NaN</td>\n",
       "      <td>NaN</td>\n",
       "    </tr>\n",
       "    <tr>\n",
       "      <th>2015-11-30</th>\n",
       "      <td>CA</td>\n",
       "      <td>CA_4</td>\n",
       "      <td>FOODS_3</td>\n",
       "      <td>FOODS</td>\n",
       "      <td>FOODS_3_555</td>\n",
       "      <td>11544</td>\n",
       "      <td>d_1767</td>\n",
       "      <td>4</td>\n",
       "      <td>1.68</td>\n",
       "      <td>2015</td>\n",
       "      <td>11</td>\n",
       "      <td>3</td>\n",
       "      <td>Monday</td>\n",
       "      <td>NaN</td>\n",
       "      <td>NaN</td>\n",
       "      <td>NaN</td>\n",
       "      <td>NaN</td>\n",
       "    </tr>\n",
       "    <tr>\n",
       "      <th>2015-11-30</th>\n",
       "      <td>CA</td>\n",
       "      <td>CA_4</td>\n",
       "      <td>FOODS_3</td>\n",
       "      <td>FOODS</td>\n",
       "      <td>FOODS_3_586</td>\n",
       "      <td>11544</td>\n",
       "      <td>d_1767</td>\n",
       "      <td>9</td>\n",
       "      <td>1.68</td>\n",
       "      <td>2015</td>\n",
       "      <td>11</td>\n",
       "      <td>3</td>\n",
       "      <td>Monday</td>\n",
       "      <td>NaN</td>\n",
       "      <td>NaN</td>\n",
       "      <td>NaN</td>\n",
       "      <td>NaN</td>\n",
       "    </tr>\n",
       "    <tr>\n",
       "      <th>2015-11-30</th>\n",
       "      <td>CA</td>\n",
       "      <td>CA_4</td>\n",
       "      <td>FOODS_3</td>\n",
       "      <td>FOODS</td>\n",
       "      <td>FOODS_3_587</td>\n",
       "      <td>11544</td>\n",
       "      <td>d_1767</td>\n",
       "      <td>13</td>\n",
       "      <td>2.48</td>\n",
       "      <td>2015</td>\n",
       "      <td>11</td>\n",
       "      <td>3</td>\n",
       "      <td>Monday</td>\n",
       "      <td>NaN</td>\n",
       "      <td>NaN</td>\n",
       "      <td>NaN</td>\n",
       "      <td>NaN</td>\n",
       "    </tr>\n",
       "    <tr>\n",
       "      <th>2015-11-30</th>\n",
       "      <td>CA</td>\n",
       "      <td>CA_4</td>\n",
       "      <td>FOODS_3</td>\n",
       "      <td>FOODS</td>\n",
       "      <td>FOODS_3_714</td>\n",
       "      <td>11544</td>\n",
       "      <td>d_1767</td>\n",
       "      <td>9</td>\n",
       "      <td>1.58</td>\n",
       "      <td>2015</td>\n",
       "      <td>11</td>\n",
       "      <td>3</td>\n",
       "      <td>Monday</td>\n",
       "      <td>NaN</td>\n",
       "      <td>NaN</td>\n",
       "      <td>NaN</td>\n",
       "      <td>NaN</td>\n",
       "    </tr>\n",
       "  </tbody>\n",
       "</table>\n",
       "<p>21280 rows × 17 columns</p>\n",
       "</div>"
      ],
      "text/plain": [
       "           state_id store_id  dept_id cat_id      item_id  wm_yr_wk       d  \\\n",
       "date                                                                          \n",
       "2013-01-01       CA     CA_3  FOODS_3  FOODS  FOODS_3_090     11249   d_704   \n",
       "2013-01-01       CA     CA_3  FOODS_3  FOODS  FOODS_3_120     11249   d_704   \n",
       "2013-01-01       CA     CA_3  FOODS_3  FOODS  FOODS_3_202     11249   d_704   \n",
       "2013-01-01       CA     CA_3  FOODS_3  FOODS  FOODS_3_252     11249   d_704   \n",
       "2013-01-01       CA     CA_3  FOODS_3  FOODS  FOODS_3_288     11249   d_704   \n",
       "...             ...      ...      ...    ...          ...       ...     ...   \n",
       "2015-11-30       CA     CA_4  FOODS_3  FOODS  FOODS_3_329     11544  d_1767   \n",
       "2015-11-30       CA     CA_4  FOODS_3  FOODS  FOODS_3_555     11544  d_1767   \n",
       "2015-11-30       CA     CA_4  FOODS_3  FOODS  FOODS_3_586     11544  d_1767   \n",
       "2015-11-30       CA     CA_4  FOODS_3  FOODS  FOODS_3_587     11544  d_1767   \n",
       "2015-11-30       CA     CA_4  FOODS_3  FOODS  FOODS_3_714     11544  d_1767   \n",
       "\n",
       "            ventas  sell_price  year  month  wday  weekday event_name_1  \\\n",
       "date                                                                      \n",
       "2013-01-01       0        1.25  2013      1     4  Tuesday      NewYear   \n",
       "2013-01-01       0        4.98  2013      1     4  Tuesday      NewYear   \n",
       "2013-01-01      20        4.28  2013      1     4  Tuesday      NewYear   \n",
       "2013-01-01      34        1.48  2013      1     4  Tuesday      NewYear   \n",
       "2013-01-01       0         NaN  2013      1     4  Tuesday      NewYear   \n",
       "...            ...         ...   ...    ...   ...      ...          ...   \n",
       "2015-11-30       5        2.98  2015     11     3   Monday          NaN   \n",
       "2015-11-30       4        1.68  2015     11     3   Monday          NaN   \n",
       "2015-11-30       9        1.68  2015     11     3   Monday          NaN   \n",
       "2015-11-30      13        2.48  2015     11     3   Monday          NaN   \n",
       "2015-11-30       9        1.58  2015     11     3   Monday          NaN   \n",
       "\n",
       "           event_type_1 event_name_2 event_type_2  \n",
       "date                                               \n",
       "2013-01-01     National          NaN          NaN  \n",
       "2013-01-01     National          NaN          NaN  \n",
       "2013-01-01     National          NaN          NaN  \n",
       "2013-01-01     National          NaN          NaN  \n",
       "2013-01-01     National          NaN          NaN  \n",
       "...                 ...          ...          ...  \n",
       "2015-11-30          NaN          NaN          NaN  \n",
       "2015-11-30          NaN          NaN          NaN  \n",
       "2015-11-30          NaN          NaN          NaN  \n",
       "2015-11-30          NaN          NaN          NaN  \n",
       "2015-11-30          NaN          NaN          NaN  \n",
       "\n",
       "[21280 rows x 17 columns]"
      ]
     },
     "execution_count": 31,
     "metadata": {},
     "output_type": "execute_result"
    }
   ],
   "source": [
    "ruta_completa = ruta_proyecto + '/02_Datos/03_Trabajo/' + nombre_fichero_datos\n",
    "\n",
    "df = pd.read_csv(ruta_completa,parse_dates=['date'],index_col='date')\n",
    "df"
   ]
  },
  {
   "cell_type": "markdown",
   "id": "d2d5443c",
   "metadata": {},
   "source": [
    "## VISIÓN GENERAL"
   ]
  },
  {
   "cell_type": "code",
   "execution_count": 32,
   "id": "976c8ac6",
   "metadata": {},
   "outputs": [
    {
     "name": "stdout",
     "output_type": "stream",
     "text": [
      "<class 'pandas.core.frame.DataFrame'>\n",
      "DatetimeIndex: 21280 entries, 2013-01-01 to 2015-11-30\n",
      "Data columns (total 17 columns):\n",
      " #   Column        Non-Null Count  Dtype  \n",
      "---  ------        --------------  -----  \n",
      " 0   state_id      21280 non-null  object \n",
      " 1   store_id      21280 non-null  object \n",
      " 2   dept_id       21280 non-null  object \n",
      " 3   cat_id        21280 non-null  object \n",
      " 4   item_id       21280 non-null  object \n",
      " 5   wm_yr_wk      21280 non-null  int64  \n",
      " 6   d             21280 non-null  object \n",
      " 7   ventas        21280 non-null  int64  \n",
      " 8   sell_price    21209 non-null  float64\n",
      " 9   year          21280 non-null  int64  \n",
      " 10  month         21280 non-null  int64  \n",
      " 11  wday          21280 non-null  int64  \n",
      " 12  weekday       21280 non-null  object \n",
      " 13  event_name_1  1700 non-null   object \n",
      " 14  event_type_1  1700 non-null   object \n",
      " 15  event_name_2  60 non-null     object \n",
      " 16  event_type_2  60 non-null     object \n",
      "dtypes: float64(1), int64(5), object(11)\n",
      "memory usage: 2.9+ MB\n"
     ]
    }
   ],
   "source": [
    "df.info()"
   ]
  },
  {
   "cell_type": "markdown",
   "id": "158ee1d7",
   "metadata": {},
   "source": [
    "## TIPOS DE DATOS"
   ]
  },
  {
   "cell_type": "markdown",
   "id": "88162727",
   "metadata": {},
   "source": [
    "### Identificación"
   ]
  },
  {
   "cell_type": "code",
   "execution_count": 33,
   "id": "197a99c2",
   "metadata": {},
   "outputs": [
    {
     "data": {
      "text/plain": [
       "state_id         object\n",
       "store_id         object\n",
       "dept_id          object\n",
       "cat_id           object\n",
       "item_id          object\n",
       "wm_yr_wk          int64\n",
       "d                object\n",
       "ventas            int64\n",
       "sell_price      float64\n",
       "year              int64\n",
       "month             int64\n",
       "wday              int64\n",
       "weekday          object\n",
       "event_name_1     object\n",
       "event_type_1     object\n",
       "event_name_2     object\n",
       "event_type_2     object\n",
       "dtype: object"
      ]
     },
     "execution_count": 33,
     "metadata": {},
     "output_type": "execute_result"
    }
   ],
   "source": [
    "df.dtypes"
   ]
  },
  {
   "cell_type": "markdown",
   "id": "097c987f",
   "metadata": {},
   "source": [
    "Conclusión: \n",
    "\n",
    "* year, month, y wday deberían ser categóricas"
   ]
  },
  {
   "cell_type": "markdown",
   "id": "fe903a4d",
   "metadata": {},
   "source": [
    "### Corrección"
   ]
  },
  {
   "cell_type": "code",
   "execution_count": 34,
   "id": "4ca13f40",
   "metadata": {},
   "outputs": [
    {
     "data": {
      "text/plain": [
       "state_id         object\n",
       "store_id         object\n",
       "dept_id          object\n",
       "cat_id           object\n",
       "item_id          object\n",
       "wm_yr_wk          int64\n",
       "d                object\n",
       "ventas            int64\n",
       "sell_price      float64\n",
       "year             object\n",
       "month            object\n",
       "wday             object\n",
       "weekday          object\n",
       "event_name_1     object\n",
       "event_type_1     object\n",
       "event_name_2     object\n",
       "event_type_2     object\n",
       "dtype: object"
      ]
     },
     "execution_count": 34,
     "metadata": {},
     "output_type": "execute_result"
    }
   ],
   "source": [
    "df = df.astype({'year':'O',\n",
    "               'month': 'O',\n",
    "               'wday': 'O'})\n",
    "\n",
    "df.dtypes"
   ]
  },
  {
   "cell_type": "markdown",
   "id": "cc8d4a22",
   "metadata": {},
   "source": [
    "## VALORES ÚNICOS"
   ]
  },
  {
   "cell_type": "markdown",
   "id": "f21f0e36",
   "metadata": {},
   "source": [
    "### Identificación"
   ]
  },
  {
   "cell_type": "code",
   "execution_count": 35,
   "id": "6e53e444",
   "metadata": {},
   "outputs": [
    {
     "data": {
      "text/plain": [
       "state_id           1\n",
       "cat_id             1\n",
       "dept_id            1\n",
       "event_type_2       2\n",
       "store_id           2\n",
       "event_name_2       3\n",
       "year               3\n",
       "event_type_1       4\n",
       "wday               7\n",
       "weekday            7\n",
       "item_id           10\n",
       "month             12\n",
       "sell_price        23\n",
       "event_name_1      30\n",
       "wm_yr_wk         153\n",
       "ventas           301\n",
       "d               1064\n",
       "dtype: int64"
      ]
     },
     "execution_count": 35,
     "metadata": {},
     "output_type": "execute_result"
    }
   ],
   "source": [
    "df.nunique().sort_values()"
   ]
  },
  {
   "cell_type": "markdown",
   "id": "b1d1a668",
   "metadata": {},
   "source": [
    "### Corrección"
   ]
  },
  {
   "cell_type": "code",
   "execution_count": 36,
   "id": "62f7d14e",
   "metadata": {},
   "outputs": [],
   "source": [
    "df.drop(columns = ['state_id','cat_id','dept_id'], inplace = True)"
   ]
  },
  {
   "cell_type": "markdown",
   "id": "e25cfc89",
   "metadata": {},
   "source": [
    "## DUPLICADOS"
   ]
  },
  {
   "cell_type": "markdown",
   "id": "8a079ed3",
   "metadata": {},
   "source": [
    "### Identificación"
   ]
  },
  {
   "cell_type": "code",
   "execution_count": 37,
   "id": "f5b23bfc",
   "metadata": {
    "scrolled": true
   },
   "outputs": [
    {
     "data": {
      "text/plain": [
       "0"
      ]
     },
     "execution_count": 37,
     "metadata": {},
     "output_type": "execute_result"
    }
   ],
   "source": [
    "df.duplicated().sum()"
   ]
  },
  {
   "cell_type": "markdown",
   "id": "632ec2cd",
   "metadata": {},
   "source": [
    "## SEPARAR NUMÉRICAS Y CATEGÓRICAS"
   ]
  },
  {
   "cell_type": "markdown",
   "id": "573a61ac",
   "metadata": {},
   "source": [
    "### Categóricas"
   ]
  },
  {
   "cell_type": "code",
   "execution_count": 38,
   "id": "47a7eece",
   "metadata": {},
   "outputs": [],
   "source": [
    "cat = df.select_dtypes(exclude = 'number').copy()"
   ]
  },
  {
   "cell_type": "markdown",
   "id": "41756893",
   "metadata": {},
   "source": [
    "### Numéricas"
   ]
  },
  {
   "cell_type": "code",
   "execution_count": 39,
   "id": "59140e9a",
   "metadata": {},
   "outputs": [],
   "source": [
    "num = df.select_dtypes(include='number').copy()"
   ]
  },
  {
   "cell_type": "markdown",
   "id": "5e7d8e7e",
   "metadata": {},
   "source": [
    "## GESTIÓN DE CATEGÓRICAS"
   ]
  },
  {
   "cell_type": "markdown",
   "id": "5b5808b7",
   "metadata": {},
   "source": [
    "### Nulos"
   ]
  },
  {
   "cell_type": "markdown",
   "id": "5c08ca55",
   "metadata": {},
   "source": [
    "#### Identificación"
   ]
  },
  {
   "cell_type": "code",
   "execution_count": 40,
   "id": "da49ae63",
   "metadata": {},
   "outputs": [
    {
     "data": {
      "text/plain": [
       "event_name_2    21220\n",
       "event_type_2    21220\n",
       "event_name_1    19580\n",
       "event_type_1    19580\n",
       "store_id            0\n",
       "item_id             0\n",
       "d                   0\n",
       "year                0\n",
       "month               0\n",
       "wday                0\n",
       "weekday             0\n",
       "dtype: int64"
      ]
     },
     "execution_count": 40,
     "metadata": {},
     "output_type": "execute_result"
    }
   ],
   "source": [
    "cat.isna().sum().sort_values(ascending = False)"
   ]
  },
  {
   "cell_type": "code",
   "execution_count": 41,
   "id": "ad3df383",
   "metadata": {},
   "outputs": [
    {
     "data": {
      "text/plain": [
       "event_name_1\n",
       "NaN                    19580\n",
       "NewYear                   60\n",
       "Mother's day              60\n",
       "Thanksgiving              60\n",
       "VeteransDay               60\n",
       "Halloween                 60\n",
       "EidAlAdha                 60\n",
       "ColumbusDay               60\n",
       "LaborDay                  60\n",
       "Eid al-Fitr               60\n",
       "Ramadan starts            60\n",
       "IndependenceDay           60\n",
       "NBAFinalsEnd              60\n",
       "NBAFinalsStart            60\n",
       "MemorialDay               60\n",
       "Pesach End                60\n",
       "Easter                    60\n",
       "StPatricksDay             60\n",
       "Purim End                 60\n",
       "LentWeek2                 60\n",
       "PresidentsDay             60\n",
       "ValentinesDay             60\n",
       "LentStart                 60\n",
       "SuperBowl                 60\n",
       "MartinLutherKingDay       60\n",
       "OrthodoxChristmas         60\n",
       "OrthodoxEaster            40\n",
       "Father's day              40\n",
       "Chanukah End              40\n",
       "Christmas                 40\n",
       "Cinco De Mayo             40\n",
       "Name: count, dtype: int64"
      ]
     },
     "execution_count": 41,
     "metadata": {},
     "output_type": "execute_result"
    }
   ],
   "source": [
    "cat.event_name_1.value_counts(dropna=False)"
   ]
  },
  {
   "cell_type": "code",
   "execution_count": 42,
   "id": "73788a15",
   "metadata": {},
   "outputs": [
    {
     "data": {
      "text/plain": [
       "event_name_2\n",
       "NaN               21220\n",
       "Cinco De Mayo        20\n",
       "OrthodoxEaster       20\n",
       "Father's day         20\n",
       "Name: count, dtype: int64"
      ]
     },
     "execution_count": 42,
     "metadata": {},
     "output_type": "execute_result"
    }
   ],
   "source": [
    "cat.event_name_2.value_counts(dropna=False)"
   ]
  },
  {
   "cell_type": "code",
   "execution_count": 43,
   "id": "0c175b1e",
   "metadata": {},
   "outputs": [
    {
     "data": {
      "text/plain": [
       "event_type_1\n",
       "NaN          19580\n",
       "National       580\n",
       "Religious      560\n",
       "Cultural       380\n",
       "Sporting       180\n",
       "Name: count, dtype: int64"
      ]
     },
     "execution_count": 43,
     "metadata": {},
     "output_type": "execute_result"
    }
   ],
   "source": [
    "cat.event_type_1.value_counts(dropna=False)"
   ]
  },
  {
   "cell_type": "code",
   "execution_count": 44,
   "id": "0450ca79",
   "metadata": {},
   "outputs": [
    {
     "data": {
      "text/plain": [
       "event_type_2\n",
       "NaN          21220\n",
       "Cultural        40\n",
       "Religious       20\n",
       "Name: count, dtype: int64"
      ]
     },
     "execution_count": 44,
     "metadata": {},
     "output_type": "execute_result"
    }
   ],
   "source": [
    "cat.event_type_2.value_counts(dropna=False)"
   ]
  },
  {
   "cell_type": "code",
   "execution_count": 45,
   "id": "75e88767",
   "metadata": {},
   "outputs": [
    {
     "data": {
      "text/html": [
       "<div>\n",
       "<style scoped>\n",
       "    .dataframe tbody tr th:only-of-type {\n",
       "        vertical-align: middle;\n",
       "    }\n",
       "\n",
       "    .dataframe tbody tr th {\n",
       "        vertical-align: top;\n",
       "    }\n",
       "\n",
       "    .dataframe thead th {\n",
       "        text-align: right;\n",
       "    }\n",
       "</style>\n",
       "<table border=\"1\" class=\"dataframe\">\n",
       "  <thead>\n",
       "    <tr style=\"text-align: right;\">\n",
       "      <th>event_name_2</th>\n",
       "      <th>Cinco De Mayo</th>\n",
       "      <th>Father's day</th>\n",
       "      <th>OrthodoxEaster</th>\n",
       "    </tr>\n",
       "    <tr>\n",
       "      <th>event_name_1</th>\n",
       "      <th></th>\n",
       "      <th></th>\n",
       "      <th></th>\n",
       "    </tr>\n",
       "  </thead>\n",
       "  <tbody>\n",
       "    <tr>\n",
       "      <th>Easter</th>\n",
       "      <td>0</td>\n",
       "      <td>0</td>\n",
       "      <td>20</td>\n",
       "    </tr>\n",
       "    <tr>\n",
       "      <th>NBAFinalsEnd</th>\n",
       "      <td>0</td>\n",
       "      <td>20</td>\n",
       "      <td>0</td>\n",
       "    </tr>\n",
       "    <tr>\n",
       "      <th>OrthodoxEaster</th>\n",
       "      <td>20</td>\n",
       "      <td>0</td>\n",
       "      <td>0</td>\n",
       "    </tr>\n",
       "  </tbody>\n",
       "</table>\n",
       "</div>"
      ],
      "text/plain": [
       "event_name_2    Cinco De Mayo  Father's day  OrthodoxEaster\n",
       "event_name_1                                               \n",
       "Easter                      0             0              20\n",
       "NBAFinalsEnd                0            20               0\n",
       "OrthodoxEaster             20             0               0"
      ]
     },
     "execution_count": 45,
     "metadata": {},
     "output_type": "execute_result"
    }
   ],
   "source": [
    "pd.crosstab(index=cat['event_name_1'], columns=cat['event_name_2'])"
   ]
  },
  {
   "cell_type": "markdown",
   "id": "c827a014",
   "metadata": {},
   "source": [
    "Conclusiones:\n",
    "\n",
    "* event_name_2 tiene eventos que ya están incluídos en event_name_1\n",
    "* pero luego al cruzarlos no coinciden\n",
    "* como no sabemos por qué vamos a eliminar event_name_2 y también event_type_2\n",
    "* en cuanto a los nulos de event_name_1 y event_type_1 parece claro que son días \"Sin_evento\", así lo imputaremos"
   ]
  },
  {
   "cell_type": "markdown",
   "id": "6802d575",
   "metadata": {},
   "source": [
    "#### Corrección"
   ]
  },
  {
   "cell_type": "markdown",
   "id": "8b7a0f5c",
   "metadata": {},
   "source": [
    "##### Eliminar la variable"
   ]
  },
  {
   "cell_type": "code",
   "execution_count": 46,
   "id": "e73e2300",
   "metadata": {},
   "outputs": [],
   "source": [
    "cat.drop(columns = ['event_name_2','event_type_2'],inplace = True)"
   ]
  },
  {
   "cell_type": "markdown",
   "id": "ebeb52a6",
   "metadata": {},
   "source": [
    "##### Imputar por un valor"
   ]
  },
  {
   "cell_type": "markdown",
   "id": "2cba1c3c",
   "metadata": {},
   "source": [
    "###### Variables a imputar"
   ]
  },
  {
   "cell_type": "code",
   "execution_count": 47,
   "id": "4050ef9f",
   "metadata": {},
   "outputs": [],
   "source": [
    "var_imputar_valor = ['event_name_1','event_type_1']"
   ]
  },
  {
   "cell_type": "markdown",
   "id": "fa866ac6",
   "metadata": {},
   "source": [
    "###### Valor por el que imputar"
   ]
  },
  {
   "cell_type": "code",
   "execution_count": 48,
   "id": "10abb34a",
   "metadata": {},
   "outputs": [],
   "source": [
    "valor = 'Sin_evento'"
   ]
  },
  {
   "cell_type": "markdown",
   "id": "78d10252",
   "metadata": {},
   "source": [
    "###### Imputar"
   ]
  },
  {
   "cell_type": "code",
   "execution_count": 49,
   "id": "f16e8491",
   "metadata": {},
   "outputs": [],
   "source": [
    "cat[var_imputar_valor] = cat[var_imputar_valor].fillna(valor)"
   ]
  },
  {
   "cell_type": "markdown",
   "id": "ca43fa60",
   "metadata": {},
   "source": [
    "Comprobamos."
   ]
  },
  {
   "cell_type": "code",
   "execution_count": 50,
   "id": "942b9c2b",
   "metadata": {},
   "outputs": [
    {
     "data": {
      "text/plain": [
       "store_id        0\n",
       "item_id         0\n",
       "d               0\n",
       "year            0\n",
       "month           0\n",
       "wday            0\n",
       "weekday         0\n",
       "event_name_1    0\n",
       "event_type_1    0\n",
       "dtype: int64"
      ]
     },
     "execution_count": 50,
     "metadata": {},
     "output_type": "execute_result"
    }
   ],
   "source": [
    "cat.isna().sum().sort_values(ascending = False)"
   ]
  },
  {
   "cell_type": "markdown",
   "id": "913cd65d",
   "metadata": {},
   "source": [
    "### Atípicos"
   ]
  },
  {
   "cell_type": "markdown",
   "id": "5a575397",
   "metadata": {},
   "source": [
    "#### Categorías poco frecuentes"
   ]
  },
  {
   "cell_type": "markdown",
   "id": "a7162b68",
   "metadata": {},
   "source": [
    "##### Identificación"
   ]
  },
  {
   "cell_type": "code",
   "execution_count": 51,
   "id": "abe78833",
   "metadata": {},
   "outputs": [
    {
     "name": "stdout",
     "output_type": "stream",
     "text": [
      "store_id\n",
      "\n",
      "store_id\n",
      "CA_3    10640\n",
      "CA_4    10640\n",
      "Name: count, dtype: int64\n",
      "\n",
      "\n",
      "\n",
      "item_id\n",
      "\n",
      "item_id\n",
      "FOODS_3_090    2128\n",
      "FOODS_3_120    2128\n",
      "FOODS_3_202    2128\n",
      "FOODS_3_252    2128\n",
      "FOODS_3_288    2128\n",
      "FOODS_3_329    2128\n",
      "FOODS_3_555    2128\n",
      "FOODS_3_586    2128\n",
      "FOODS_3_587    2128\n",
      "FOODS_3_714    2128\n",
      "Name: count, dtype: int64\n",
      "\n",
      "\n",
      "\n",
      "d\n",
      "\n",
      "d\n",
      "d_704     20\n",
      "d_1418    20\n",
      "d_1404    20\n",
      "d_1405    20\n",
      "d_1406    20\n",
      "          ..\n",
      "d_1064    20\n",
      "d_1065    20\n",
      "d_1066    20\n",
      "d_1067    20\n",
      "d_1767    20\n",
      "Name: count, Length: 1064, dtype: int64\n",
      "\n",
      "\n",
      "\n",
      "year\n",
      "\n",
      "year\n",
      "2013    7300\n",
      "2014    7300\n",
      "2015    6680\n",
      "Name: count, dtype: int64\n",
      "\n",
      "\n",
      "\n",
      "month\n",
      "\n",
      "month\n",
      "1     1860\n",
      "3     1860\n",
      "5     1860\n",
      "7     1860\n",
      "8     1860\n",
      "10    1860\n",
      "4     1800\n",
      "6     1800\n",
      "9     1800\n",
      "11    1800\n",
      "2     1680\n",
      "12    1240\n",
      "Name: count, dtype: int64\n",
      "\n",
      "\n",
      "\n",
      "wday\n",
      "\n",
      "wday\n",
      "4    3040\n",
      "5    3040\n",
      "6    3040\n",
      "7    3040\n",
      "1    3040\n",
      "2    3040\n",
      "3    3040\n",
      "Name: count, dtype: int64\n",
      "\n",
      "\n",
      "\n",
      "weekday\n",
      "\n",
      "weekday\n",
      "Tuesday      3040\n",
      "Wednesday    3040\n",
      "Thursday     3040\n",
      "Friday       3040\n",
      "Saturday     3040\n",
      "Sunday       3040\n",
      "Monday       3040\n",
      "Name: count, dtype: int64\n",
      "\n",
      "\n",
      "\n",
      "event_name_1\n",
      "\n",
      "event_name_1\n",
      "Sin_evento             19580\n",
      "NewYear                   60\n",
      "Mother's day              60\n",
      "Thanksgiving              60\n",
      "VeteransDay               60\n",
      "Halloween                 60\n",
      "EidAlAdha                 60\n",
      "ColumbusDay               60\n",
      "LaborDay                  60\n",
      "Eid al-Fitr               60\n",
      "Ramadan starts            60\n",
      "IndependenceDay           60\n",
      "NBAFinalsEnd              60\n",
      "NBAFinalsStart            60\n",
      "MemorialDay               60\n",
      "Pesach End                60\n",
      "Easter                    60\n",
      "StPatricksDay             60\n",
      "Purim End                 60\n",
      "LentWeek2                 60\n",
      "PresidentsDay             60\n",
      "ValentinesDay             60\n",
      "LentStart                 60\n",
      "SuperBowl                 60\n",
      "MartinLutherKingDay       60\n",
      "OrthodoxChristmas         60\n",
      "OrthodoxEaster            40\n",
      "Father's day              40\n",
      "Chanukah End              40\n",
      "Christmas                 40\n",
      "Cinco De Mayo             40\n",
      "Name: count, dtype: int64\n",
      "\n",
      "\n",
      "\n",
      "event_type_1\n",
      "\n",
      "event_type_1\n",
      "Sin_evento    19580\n",
      "National        580\n",
      "Religious       560\n",
      "Cultural        380\n",
      "Sporting        180\n",
      "Name: count, dtype: int64\n",
      "\n",
      "\n",
      "\n"
     ]
    }
   ],
   "source": [
    "for variable in cat:\n",
    "    print(variable + '\\n')\n",
    "    print(cat[variable].value_counts(dropna = False))\n",
    "    print('\\n\\n')"
   ]
  },
  {
   "cell_type": "markdown",
   "id": "ac94e0cd",
   "metadata": {},
   "source": [
    "Conclusión:\n",
    "\n",
    "* No hay variables con categorías raras\n",
    "* Hay meses con menos registros, esto puede ser porque son los meses con menos de 31 días\n",
    "* 2015 tiene menos registros ¿serán los de validación o hay más?\n",
    "\n",
    "Vamos a comprobarlo."
   ]
  },
  {
   "cell_type": "code",
   "execution_count": 52,
   "id": "1a8241f6",
   "metadata": {},
   "outputs": [
    {
     "data": {
      "text/plain": [
       "year\n",
       "2013    365\n",
       "2014    365\n",
       "2015    334\n",
       "Name: d, dtype: int64"
      ]
     },
     "execution_count": 52,
     "metadata": {},
     "output_type": "execute_result"
    }
   ],
   "source": [
    "df.groupby('year').d.nunique()"
   ]
  },
  {
   "cell_type": "markdown",
   "id": "ff52b17a",
   "metadata": {},
   "source": [
    "Parece que faltan 31 días.\n",
    "\n",
    "Vamos a ver cuales."
   ]
  },
  {
   "cell_type": "code",
   "execution_count": 53,
   "id": "bce6b17c",
   "metadata": {},
   "outputs": [
    {
     "data": {
      "text/plain": [
       "DatetimeIndex(['2015-12-01', '2015-12-02', '2015-12-03', '2015-12-04',\n",
       "               '2015-12-05', '2015-12-06', '2015-12-07', '2015-12-08',\n",
       "               '2015-12-09', '2015-12-10', '2015-12-11', '2015-12-12',\n",
       "               '2015-12-13', '2015-12-14', '2015-12-15', '2015-12-16',\n",
       "               '2015-12-17', '2015-12-18', '2015-12-19', '2015-12-20',\n",
       "               '2015-12-21', '2015-12-22', '2015-12-23', '2015-12-24',\n",
       "               '2015-12-25', '2015-12-26', '2015-12-27', '2015-12-28',\n",
       "               '2015-12-29', '2015-12-30', '2015-12-31'],\n",
       "              dtype='datetime64[ns]', freq='D')"
      ]
     },
     "execution_count": 53,
     "metadata": {},
     "output_type": "execute_result"
    }
   ],
   "source": [
    "pd.date_range(start = '2015-01-01', end = '2015-12-31' ).difference(df.loc['2015'].index)"
   ]
  },
  {
   "cell_type": "markdown",
   "id": "8aa1a9c6",
   "metadata": {},
   "source": [
    "Está claro que son los de validación, así que todo correcto."
   ]
  },
  {
   "cell_type": "markdown",
   "id": "db3a72a6",
   "metadata": {},
   "source": [
    "## GESTIÓN DE NUMÉRICAS"
   ]
  },
  {
   "cell_type": "markdown",
   "id": "d65bd06a",
   "metadata": {},
   "source": [
    "### Estadísticos"
   ]
  },
  {
   "cell_type": "code",
   "execution_count": 54,
   "id": "04123afb",
   "metadata": {},
   "outputs": [
    {
     "data": {
      "text/html": [
       "<div>\n",
       "<style scoped>\n",
       "    .dataframe tbody tr th:only-of-type {\n",
       "        vertical-align: middle;\n",
       "    }\n",
       "\n",
       "    .dataframe tbody tr th {\n",
       "        vertical-align: top;\n",
       "    }\n",
       "\n",
       "    .dataframe thead th {\n",
       "        text-align: right;\n",
       "    }\n",
       "</style>\n",
       "<table border=\"1\" class=\"dataframe\">\n",
       "  <thead>\n",
       "    <tr style=\"text-align: right;\">\n",
       "      <th></th>\n",
       "      <th>count</th>\n",
       "      <th>mean</th>\n",
       "      <th>std</th>\n",
       "      <th>min</th>\n",
       "      <th>25%</th>\n",
       "      <th>50%</th>\n",
       "      <th>75%</th>\n",
       "      <th>max</th>\n",
       "    </tr>\n",
       "  </thead>\n",
       "  <tbody>\n",
       "    <tr>\n",
       "      <th>wm_yr_wk</th>\n",
       "      <td>21280.0</td>\n",
       "      <td>11415.022556</td>\n",
       "      <td>82.874752</td>\n",
       "      <td>11249.0</td>\n",
       "      <td>11335.0</td>\n",
       "      <td>11420.00</td>\n",
       "      <td>11506.00</td>\n",
       "      <td>11544.00</td>\n",
       "    </tr>\n",
       "    <tr>\n",
       "      <th>ventas</th>\n",
       "      <td>21280.0</td>\n",
       "      <td>28.874577</td>\n",
       "      <td>38.988147</td>\n",
       "      <td>0.0</td>\n",
       "      <td>6.0</td>\n",
       "      <td>18.00</td>\n",
       "      <td>37.00</td>\n",
       "      <td>763.00</td>\n",
       "    </tr>\n",
       "    <tr>\n",
       "      <th>sell_price</th>\n",
       "      <td>21209.0</td>\n",
       "      <td>2.397254</td>\n",
       "      <td>1.237024</td>\n",
       "      <td>1.0</td>\n",
       "      <td>1.5</td>\n",
       "      <td>1.58</td>\n",
       "      <td>2.98</td>\n",
       "      <td>4.98</td>\n",
       "    </tr>\n",
       "  </tbody>\n",
       "</table>\n",
       "</div>"
      ],
      "text/plain": [
       "              count          mean        std      min      25%       50%  \\\n",
       "wm_yr_wk    21280.0  11415.022556  82.874752  11249.0  11335.0  11420.00   \n",
       "ventas      21280.0     28.874577  38.988147      0.0      6.0     18.00   \n",
       "sell_price  21209.0      2.397254   1.237024      1.0      1.5      1.58   \n",
       "\n",
       "                 75%       max  \n",
       "wm_yr_wk    11506.00  11544.00  \n",
       "ventas         37.00    763.00  \n",
       "sell_price      2.98      4.98  "
      ]
     },
     "execution_count": 54,
     "metadata": {},
     "output_type": "execute_result"
    }
   ],
   "source": [
    "num.describe().T"
   ]
  },
  {
   "cell_type": "markdown",
   "id": "2a15fb2e",
   "metadata": {},
   "source": [
    "### Nulos"
   ]
  },
  {
   "cell_type": "markdown",
   "id": "e5ee8416",
   "metadata": {},
   "source": [
    "#### Identificación"
   ]
  },
  {
   "cell_type": "code",
   "execution_count": 63,
   "id": "c9f054a3",
   "metadata": {
    "scrolled": true
   },
   "outputs": [
    {
     "data": {
      "text/plain": [
       "sell_price    71\n",
       "wm_yr_wk       0\n",
       "ventas         0\n",
       "dtype: int64"
      ]
     },
     "execution_count": 63,
     "metadata": {},
     "output_type": "execute_result"
    }
   ],
   "source": [
    "num.isna().sum().sort_values(ascending = False)"
   ]
  },
  {
   "cell_type": "markdown",
   "id": "ece96011",
   "metadata": {},
   "source": [
    "sell_price es una variable relevante, vamos a ver si encontramos algún patrón."
   ]
  },
  {
   "cell_type": "code",
   "execution_count": 64,
   "id": "5a7f5a87",
   "metadata": {},
   "outputs": [
    {
     "data": {
      "text/plain": [
       "item_id\n",
       "FOODS_3_288    71\n",
       "FOODS_3_090     0\n",
       "FOODS_3_120     0\n",
       "FOODS_3_202     0\n",
       "FOODS_3_252     0\n",
       "FOODS_3_329     0\n",
       "FOODS_3_555     0\n",
       "FOODS_3_586     0\n",
       "FOODS_3_587     0\n",
       "FOODS_3_714     0\n",
       "dtype: int64"
      ]
     },
     "execution_count": 64,
     "metadata": {},
     "output_type": "execute_result"
    }
   ],
   "source": [
    "#Por producto\n",
    "df.groupby('item_id').apply(lambda x: x.sell_price.isna().sum()).sort_values(ascending=False)"
   ]
  },
  {
   "cell_type": "code",
   "execution_count": 65,
   "id": "77f3d1c7",
   "metadata": {},
   "outputs": [
    {
     "data": {
      "text/plain": [
       "ventas\n",
       "0      71\n",
       "210     0\n",
       "207     0\n",
       "206     0\n",
       "205     0\n",
       "       ..\n",
       "100     0\n",
       "99      0\n",
       "98      0\n",
       "97      0\n",
       "763     0\n",
       "Length: 301, dtype: int64"
      ]
     },
     "execution_count": 65,
     "metadata": {},
     "output_type": "execute_result"
    }
   ],
   "source": [
    "#Por nivel de ventas\n",
    "df.groupby('ventas').apply(lambda x: x.sell_price.isna().sum()).sort_values(ascending=False)"
   ]
  },
  {
   "cell_type": "markdown",
   "id": "088eb03d",
   "metadata": {},
   "source": [
    "Solo pasa en un producto y solo los días en los que no hay ventas.\n",
    "\n",
    "Claramente el motivo es que si no hay ventas no le pone el precio.\n",
    "\n",
    "Tenemos que corregir esto, ya que es artificial:\n",
    "\n",
    "* El producto tiene un precio aunque ese día no haya habido ventas\n",
    "\n",
    "Lo que tendría más sentido es imputar esos nulos por el primer valor válido anterior SEGMENTADO POR PRODUCTO.\n",
    "\n",
    "Pero podría pasar que el primer día de un producto tuviera ventas cero, lo cual arrastraría los nulos hacia delante sin solucionar el problema.\n",
    "\n",
    "Así que vamos a imputar por el valor más frecuente del precio de CADA PRODUCTO (la moda).\n",
    "\n",
    "Esto añade complejidad, ya que necesitamos el producto que no lo tenemos en num.\n",
    "\n",
    "Así que tenemos que incluirlo temporalmente y después eliminarlo."
   ]
  },
  {
   "cell_type": "markdown",
   "id": "5776bade",
   "metadata": {},
   "source": [
    "##### Añadir el producto"
   ]
  },
  {
   "cell_type": "code",
   "execution_count": 66,
   "id": "6479ab46",
   "metadata": {},
   "outputs": [
    {
     "data": {
      "text/html": [
       "<div>\n",
       "<style scoped>\n",
       "    .dataframe tbody tr th:only-of-type {\n",
       "        vertical-align: middle;\n",
       "    }\n",
       "\n",
       "    .dataframe tbody tr th {\n",
       "        vertical-align: top;\n",
       "    }\n",
       "\n",
       "    .dataframe thead th {\n",
       "        text-align: right;\n",
       "    }\n",
       "</style>\n",
       "<table border=\"1\" class=\"dataframe\">\n",
       "  <thead>\n",
       "    <tr style=\"text-align: right;\">\n",
       "      <th></th>\n",
       "      <th>wm_yr_wk</th>\n",
       "      <th>ventas</th>\n",
       "      <th>sell_price</th>\n",
       "      <th>item_id</th>\n",
       "    </tr>\n",
       "    <tr>\n",
       "      <th>date</th>\n",
       "      <th></th>\n",
       "      <th></th>\n",
       "      <th></th>\n",
       "      <th></th>\n",
       "    </tr>\n",
       "  </thead>\n",
       "  <tbody>\n",
       "    <tr>\n",
       "      <th>2013-01-01</th>\n",
       "      <td>11249</td>\n",
       "      <td>0</td>\n",
       "      <td>1.25</td>\n",
       "      <td>FOODS_3_090</td>\n",
       "    </tr>\n",
       "    <tr>\n",
       "      <th>2013-01-01</th>\n",
       "      <td>11249</td>\n",
       "      <td>0</td>\n",
       "      <td>4.98</td>\n",
       "      <td>FOODS_3_120</td>\n",
       "    </tr>\n",
       "    <tr>\n",
       "      <th>2013-01-01</th>\n",
       "      <td>11249</td>\n",
       "      <td>20</td>\n",
       "      <td>4.28</td>\n",
       "      <td>FOODS_3_202</td>\n",
       "    </tr>\n",
       "    <tr>\n",
       "      <th>2013-01-01</th>\n",
       "      <td>11249</td>\n",
       "      <td>34</td>\n",
       "      <td>1.48</td>\n",
       "      <td>FOODS_3_252</td>\n",
       "    </tr>\n",
       "    <tr>\n",
       "      <th>2013-01-01</th>\n",
       "      <td>11249</td>\n",
       "      <td>0</td>\n",
       "      <td>NaN</td>\n",
       "      <td>FOODS_3_288</td>\n",
       "    </tr>\n",
       "    <tr>\n",
       "      <th>...</th>\n",
       "      <td>...</td>\n",
       "      <td>...</td>\n",
       "      <td>...</td>\n",
       "      <td>...</td>\n",
       "    </tr>\n",
       "    <tr>\n",
       "      <th>2015-11-30</th>\n",
       "      <td>11544</td>\n",
       "      <td>5</td>\n",
       "      <td>2.98</td>\n",
       "      <td>FOODS_3_329</td>\n",
       "    </tr>\n",
       "    <tr>\n",
       "      <th>2015-11-30</th>\n",
       "      <td>11544</td>\n",
       "      <td>4</td>\n",
       "      <td>1.68</td>\n",
       "      <td>FOODS_3_555</td>\n",
       "    </tr>\n",
       "    <tr>\n",
       "      <th>2015-11-30</th>\n",
       "      <td>11544</td>\n",
       "      <td>9</td>\n",
       "      <td>1.68</td>\n",
       "      <td>FOODS_3_586</td>\n",
       "    </tr>\n",
       "    <tr>\n",
       "      <th>2015-11-30</th>\n",
       "      <td>11544</td>\n",
       "      <td>13</td>\n",
       "      <td>2.48</td>\n",
       "      <td>FOODS_3_587</td>\n",
       "    </tr>\n",
       "    <tr>\n",
       "      <th>2015-11-30</th>\n",
       "      <td>11544</td>\n",
       "      <td>9</td>\n",
       "      <td>1.58</td>\n",
       "      <td>FOODS_3_714</td>\n",
       "    </tr>\n",
       "  </tbody>\n",
       "</table>\n",
       "<p>21280 rows × 4 columns</p>\n",
       "</div>"
      ],
      "text/plain": [
       "            wm_yr_wk  ventas  sell_price      item_id\n",
       "date                                                 \n",
       "2013-01-01     11249       0        1.25  FOODS_3_090\n",
       "2013-01-01     11249       0        4.98  FOODS_3_120\n",
       "2013-01-01     11249      20        4.28  FOODS_3_202\n",
       "2013-01-01     11249      34        1.48  FOODS_3_252\n",
       "2013-01-01     11249       0         NaN  FOODS_3_288\n",
       "...              ...     ...         ...          ...\n",
       "2015-11-30     11544       5        2.98  FOODS_3_329\n",
       "2015-11-30     11544       4        1.68  FOODS_3_555\n",
       "2015-11-30     11544       9        1.68  FOODS_3_586\n",
       "2015-11-30     11544      13        2.48  FOODS_3_587\n",
       "2015-11-30     11544       9        1.58  FOODS_3_714\n",
       "\n",
       "[21280 rows x 4 columns]"
      ]
     },
     "execution_count": 66,
     "metadata": {},
     "output_type": "execute_result"
    }
   ],
   "source": [
    "num = pd.concat([num,cat.item_id], axis = 1)\n",
    "num"
   ]
  },
  {
   "cell_type": "markdown",
   "id": "475115c2",
   "metadata": {},
   "source": [
    "#### Corrección de los nulos de sell_price"
   ]
  },
  {
   "cell_type": "markdown",
   "id": "1904e1ba",
   "metadata": {},
   "source": [
    "##### Calcular el precio más frecuente por producto e imputar"
   ]
  },
  {
   "cell_type": "code",
   "execution_count": 67,
   "id": "829f6fc3",
   "metadata": {},
   "outputs": [],
   "source": [
    "def imputar_moda(registros):\n",
    "    #Calcula la moda del precio en ese producto\n",
    "    moda = registros.sell_price.mode()[0]\n",
    "    #Imputa los nulos\n",
    "    registros.loc[registros.sell_price.isna(),'sell_price'] = moda\n",
    "    #Devuelve todos los registros del producto\n",
    "    return(registros)\n",
    "\n",
    "num = num.groupby('item_id', group_keys=False).apply(imputar_moda)"
   ]
  },
  {
   "cell_type": "markdown",
   "id": "076f436a",
   "metadata": {},
   "source": [
    "Para comprobar que la imputación se ha hecho por producto podemos revisar los valores distintos de precio en cada producto y ver que no haya un salto grande, por ejemplo un salto de 3 a 10."
   ]
  },
  {
   "cell_type": "code",
   "execution_count": 68,
   "id": "098666f0",
   "metadata": {},
   "outputs": [
    {
     "data": {
      "text/plain": [
       "item_id      sell_price\n",
       "FOODS_3_090  1.48           658\n",
       "             1.38           546\n",
       "             1.44           504\n",
       "             1.00           280\n",
       "             1.50            90\n",
       "             1.25            50\n",
       "FOODS_3_120  4.98          2128\n",
       "FOODS_3_202  4.58           727\n",
       "             4.38           525\n",
       "             4.28           386\n",
       "             3.98           350\n",
       "             3.00           105\n",
       "             3.33            21\n",
       "             3.25             7\n",
       "             4.48             7\n",
       "FOODS_3_252  1.58          1182\n",
       "             1.48           946\n",
       "FOODS_3_288  1.50          2100\n",
       "             1.25            21\n",
       "             1.18             7\n",
       "FOODS_3_329  2.98          2079\n",
       "             2.74            42\n",
       "             1.98             7\n",
       "FOODS_3_555  1.58          1149\n",
       "             1.68           979\n",
       "FOODS_3_586  1.58          1149\n",
       "             1.68           979\n",
       "FOODS_3_587  2.48          1644\n",
       "             2.68           421\n",
       "             1.98            63\n",
       "FOODS_3_714  1.58          1322\n",
       "             1.48           806\n",
       "Name: count, dtype: int64"
      ]
     },
     "execution_count": 68,
     "metadata": {},
     "output_type": "execute_result"
    }
   ],
   "source": [
    "num.groupby('item_id').sell_price.value_counts()"
   ]
  },
  {
   "cell_type": "markdown",
   "id": "082e59de",
   "metadata": {},
   "source": [
    "##### Eliminar el producto de num"
   ]
  },
  {
   "cell_type": "code",
   "execution_count": 69,
   "id": "7af60377",
   "metadata": {},
   "outputs": [],
   "source": [
    "num.drop(columns = 'item_id',inplace=True)"
   ]
  },
  {
   "cell_type": "code",
   "execution_count": 70,
   "id": "95e18d40",
   "metadata": {},
   "outputs": [
    {
     "data": {
      "text/html": [
       "<div>\n",
       "<style scoped>\n",
       "    .dataframe tbody tr th:only-of-type {\n",
       "        vertical-align: middle;\n",
       "    }\n",
       "\n",
       "    .dataframe tbody tr th {\n",
       "        vertical-align: top;\n",
       "    }\n",
       "\n",
       "    .dataframe thead th {\n",
       "        text-align: right;\n",
       "    }\n",
       "</style>\n",
       "<table border=\"1\" class=\"dataframe\">\n",
       "  <thead>\n",
       "    <tr style=\"text-align: right;\">\n",
       "      <th></th>\n",
       "      <th>wm_yr_wk</th>\n",
       "      <th>ventas</th>\n",
       "      <th>sell_price</th>\n",
       "    </tr>\n",
       "    <tr>\n",
       "      <th>date</th>\n",
       "      <th></th>\n",
       "      <th></th>\n",
       "      <th></th>\n",
       "    </tr>\n",
       "  </thead>\n",
       "  <tbody>\n",
       "    <tr>\n",
       "      <th>2013-01-01</th>\n",
       "      <td>11249</td>\n",
       "      <td>0</td>\n",
       "      <td>1.25</td>\n",
       "    </tr>\n",
       "    <tr>\n",
       "      <th>2013-01-01</th>\n",
       "      <td>11249</td>\n",
       "      <td>33</td>\n",
       "      <td>1.25</td>\n",
       "    </tr>\n",
       "    <tr>\n",
       "      <th>2013-01-01</th>\n",
       "      <td>11249</td>\n",
       "      <td>0</td>\n",
       "      <td>4.98</td>\n",
       "    </tr>\n",
       "    <tr>\n",
       "      <th>2013-01-01</th>\n",
       "      <td>11249</td>\n",
       "      <td>0</td>\n",
       "      <td>4.98</td>\n",
       "    </tr>\n",
       "    <tr>\n",
       "      <th>2013-01-01</th>\n",
       "      <td>11249</td>\n",
       "      <td>20</td>\n",
       "      <td>4.28</td>\n",
       "    </tr>\n",
       "  </tbody>\n",
       "</table>\n",
       "</div>"
      ],
      "text/plain": [
       "            wm_yr_wk  ventas  sell_price\n",
       "date                                    \n",
       "2013-01-01     11249       0        1.25\n",
       "2013-01-01     11249      33        1.25\n",
       "2013-01-01     11249       0        4.98\n",
       "2013-01-01     11249       0        4.98\n",
       "2013-01-01     11249      20        4.28"
      ]
     },
     "execution_count": 70,
     "metadata": {},
     "output_type": "execute_result"
    }
   ],
   "source": [
    "num.head()"
   ]
  },
  {
   "cell_type": "markdown",
   "id": "82cb56e8",
   "metadata": {},
   "source": [
    "### Atípicos"
   ]
  },
  {
   "cell_type": "markdown",
   "id": "760baf8c",
   "metadata": {},
   "source": [
    "#### Por desviación típica"
   ]
  },
  {
   "cell_type": "markdown",
   "id": "4b508149",
   "metadata": {},
   "source": [
    "##### Identificación"
   ]
  },
  {
   "cell_type": "markdown",
   "id": "8ceda3d3",
   "metadata": {},
   "source": [
    "###### Definir el número de desviaciones típicas"
   ]
  },
  {
   "cell_type": "code",
   "execution_count": 71,
   "id": "2b7419cb",
   "metadata": {},
   "outputs": [],
   "source": [
    "num_desv_tip = 4"
   ]
  },
  {
   "cell_type": "markdown",
   "id": "942da237",
   "metadata": {},
   "source": [
    "###### Función que devuelve los índices de los atípicos"
   ]
  },
  {
   "cell_type": "code",
   "execution_count": 72,
   "id": "8a81f494",
   "metadata": {},
   "outputs": [],
   "source": [
    "def atipicos_desv_tip(variable, num_desv_tip = 4):\n",
    "    #sacamos los nulos por ahora\n",
    "    variable = variable.dropna()\n",
    "    #calculamos los límites\n",
    "    media = np.mean(variable)\n",
    "    sd = np.std(variable)\n",
    "    umbral = sd * num_desv_tip\n",
    "    lim_inf = media - umbral\n",
    "    lim_sup = media + umbral\n",
    "    #encontramos los índices de los que están fuera de los límites\n",
    "    indices = [indice for indice,valor in variable.items() if valor < lim_inf or valor > lim_sup]\n",
    "    return(indices)"
   ]
  },
  {
   "cell_type": "markdown",
   "id": "768e7398",
   "metadata": {},
   "source": [
    "###### Función que cuenta el número de atípicos"
   ]
  },
  {
   "cell_type": "code",
   "execution_count": 73,
   "id": "5c8f4462",
   "metadata": {},
   "outputs": [],
   "source": [
    "def conteo_atipicos(df,variable, num_desv_tip = 4):\n",
    "    atipicos = atipicos_desv_tip(df[variable], num_desv_tip)\n",
    "    return(df.loc[atipicos,variable].value_counts())"
   ]
  },
  {
   "cell_type": "markdown",
   "id": "5cd1e425",
   "metadata": {},
   "source": [
    "###### Variables a aplicar"
   ]
  },
  {
   "cell_type": "code",
   "execution_count": 74,
   "id": "cfbb3d88",
   "metadata": {},
   "outputs": [],
   "source": [
    "var_atipicos_dt = ['ventas','sell_price']"
   ]
  },
  {
   "cell_type": "markdown",
   "id": "ac400ced",
   "metadata": {},
   "source": [
    "###### Aplicar"
   ]
  },
  {
   "cell_type": "code",
   "execution_count": 75,
   "id": "c4b74e98",
   "metadata": {},
   "outputs": [
    {
     "name": "stdout",
     "output_type": "stream",
     "text": [
      "\n",
      "ventas:\n",
      "\n",
      "ventas\n",
      "0      518\n",
      "1      103\n",
      "5      100\n",
      "10      95\n",
      "7       92\n",
      "      ... \n",
      "340      1\n",
      "239      1\n",
      "250      1\n",
      "469      1\n",
      "323      1\n",
      "Name: count, Length: 247, dtype: int64\n",
      "\n",
      "sell_price:\n",
      "\n",
      "Series([], Name: count, dtype: int64)\n"
     ]
    }
   ],
   "source": [
    "for variable in var_atipicos_dt:\n",
    "    print('\\n' + variable + ':\\n')\n",
    "    print(conteo_atipicos(num,variable,num_desv_tip))"
   ]
  },
  {
   "cell_type": "markdown",
   "id": "3d2cd3d3",
   "metadata": {},
   "source": [
    "Parece que puede ser atípicos superiores."
   ]
  },
  {
   "cell_type": "code",
   "execution_count": 76,
   "id": "5150d3fa",
   "metadata": {},
   "outputs": [
    {
     "data": {
      "image/png": "[encoded data removed]",
      "text/plain": [
       "<Figure size 1200x600 with 1 Axes>"
      ]
     },
     "metadata": {},
     "output_type": "display_data"
    }
   ],
   "source": [
    "num.ventas.value_counts().plot(figsize = (12,6));"
   ]
  },
  {
   "cell_type": "markdown",
   "id": "b8736033",
   "metadata": {},
   "source": [
    "Conclusión:\n",
    "    \n",
    "* Es un claro ejemplo de cola larga, que es muy frecuente en retail\n",
    "* Mejor no hacer nada por ahora en cuanto a atípicos, en EDA quizá lo veamos mejor"
   ]
  },
  {
   "cell_type": "markdown",
   "id": "0f6b1e4a",
   "metadata": {},
   "source": [
    "## GUARDAR DATASETS TRAS CALIDAD DE DATOS"
   ]
  },
  {
   "cell_type": "markdown",
   "id": "1e211b09",
   "metadata": {},
   "source": [
    "Guarda los avances en df, cat y num con un sufijo para poder guardar o recuperar avances del proyecto.\n",
    "\n",
    "En formato pickle para no perder las modificaciones de metadatos."
   ]
  },
  {
   "cell_type": "markdown",
   "id": "abb12eef",
   "metadata": {},
   "source": [
    "### Definir los nombres de los archivos"
   ]
  },
  {
   "cell_type": "code",
   "execution_count": 77,
   "id": "f83c6f26",
   "metadata": {},
   "outputs": [],
   "source": [
    "ruta_trabajo = ruta_proyecto + '/02_Datos/03_Trabajo/' + 'trabajo_resultado_calidad.pickle'\n",
    "ruta_cat = ruta_proyecto + '/02_Datos/03_Trabajo/' + 'cat_resultado_calidad.pickle'\n",
    "ruta_num = ruta_proyecto + '/02_Datos/03_Trabajo/' + 'num_resultado_calidad.pickle'"
   ]
  },
  {
   "cell_type": "markdown",
   "id": "1699f284",
   "metadata": {},
   "source": [
    "### Guardar los archivos"
   ]
  },
  {
   "cell_type": "code",
   "execution_count": 78,
   "id": "6731887a",
   "metadata": {},
   "outputs": [],
   "source": [
    "df.to_pickle(ruta_trabajo)\n",
    "cat.to_pickle(ruta_cat)\n",
    "num.to_pickle(ruta_num)"
   ]
  }
 ],
 "metadata": {
  "kernelspec": {
   "display_name": "Python 3 (ipykernel)",
   "language": "python",
   "name": "python3"
  },
  "language_info": {
   "codemirror_mode": {
    "name": "ipython",
    "version": 3
   },
   "file_extension": ".py",
   "mimetype": "text/x-python",
   "name": "python",
   "nbconvert_exporter": "python",
   "pygments_lexer": "ipython3",
   "version": "3.12.3"
  },
  "toc": {
   "base_numbering": 1,
   "nav_menu": {},
   "number_sections": true,
   "sideBar": true,
   "skip_h1_title": false,
   "title_cell": "Table of Contents",
   "title_sidebar": "Contents",
   "toc_cell": false,
   "toc_position": {
    "height": "calc(100% - 180px)",
    "left": "10px",
    "top": "150px",
    "width": "238.533px"
   },
   "toc_section_display": true,
   "toc_window_display": true
  },
  "varInspector": {
   "cols": {
    "lenName": 16,
    "lenType": 16,
    "lenVar": 40
   },
   "kernels_config": {
    "python": {
     "delete_cmd_postfix": "",
     "delete_cmd_prefix": "del ",
     "library": "var_list.py",
     "varRefreshCmd": "print(var_dic_list())"
    },
    "r": {
     "delete_cmd_postfix": ") ",
     "delete_cmd_prefix": "rm(",
     "library": "var_list.r",
     "varRefreshCmd": "cat(var_dic_list()) "
    }
   },
   "position": {
    "height": "546.85px",
    "left": "680.75px",
    "right": "20px",
    "top": "118px",
    "width": "350px"
   },
   "types_to_exclude": [
    "module",
    "function",
    "builtin_function_or_method",
    "instance",
    "_Feature"
   ],
   "window_display": false
  }
 },
 "nbformat": 4,
 "nbformat_minor": 5
}
